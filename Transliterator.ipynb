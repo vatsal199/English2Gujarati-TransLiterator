{
 "cells": [
  {
   "cell_type": "markdown",
   "metadata": {},
   "source": [
    "## Gujarati Transliteration"
   ]
  },
  {
   "cell_type": "code",
   "execution_count": 2,
   "metadata": {},
   "outputs": [
    {
     "data": {
      "text/plain": [
       "\"first_name = 'વ'+'ત'+'્'+'સ'+'લ'\\nprint(first_name)\""
      ]
     },
     "execution_count": 2,
     "metadata": {},
     "output_type": "execute_result"
    }
   ],
   "source": [
    "'''first_name = '\\u0AB5'+'\\u0AA4'+'\\u0ACD'+'\\u0AB8'+'\\u0AB2'\n",
    "print(first_name)'''"
   ]
  },
  {
   "cell_type": "markdown",
   "metadata": {},
   "source": [
    "Below function has three arguments a,b & c all are of the data type 'char'.Value of 'a' is always between a-z but b & c can be '-1'. we will form 'match' string by concatinating variable a,b & c. This function will map consonant ( main character) character of gujarati languange with respective unicode.It is highly posible that for three character( or two characher or one character) of english language there is only one gujarati character so based on that I created different mapping for each character based on it's length(3D - length=3, 2D - length=2, 1D - length=1).Whenever we find matching string return unicode & length of matched string. In case of no matching return -1."
   ]
  },
  {
   "cell_type": "code",
   "execution_count": 3,
   "metadata": {},
   "outputs": [],
   "source": [
    "def findInMainChar(a,b,c):\n",
    "\n",
    "    mainChar_3D = ['CHH']\n",
    "    mainChar_3DU = ['9B']\n",
    "    len3D = len(mainChar_3D)\n",
    "\n",
    "    mainChar_2D = ['KH','GH','CH','TH','DH','PH','BH','SH','SS']\n",
    "    mainChar_2DU = ['96','98','9A','A5','A7','AB','AD','B6','B7']\n",
    "    len2D = len(mainChar_2D)\n",
    "\n",
    "    mainChar_1D = ['K','G','J','Z','T','D','N','P','B','M','Y','R','L','V','S','H']\n",
    "    mainChar_1DU = ['95','97','9C','9D','A4','A6','A8','AA','AC','AE','AF','B0','B2','B5','B8','B9']\n",
    "    len1D = len(mainChar_1D)\n",
    "    \n",
    "    if b!='-1' and c!='-1':\n",
    "        match = a+b+c\n",
    "        for i in range(len3D):\n",
    "            if mainChar_3D[i] == match:\n",
    "                return (3,mainChar_3DU[i])\n",
    "        \n",
    "    if b!='-1':\n",
    "        match = a+b\n",
    "        for i in range(len2D):\n",
    "            if mainChar_2D[i] == match:\n",
    "                return (2,mainChar_2DU[i])\n",
    "        \n",
    "    match = a\n",
    "    for i in range(len1D):\n",
    "        if mainChar_1D[i] == match:\n",
    "            return (1,mainChar_1DU[i])\n",
    "        \n",
    "    return (-1,'-1')\n"
   ]
  },
  {
   "cell_type": "markdown",
   "metadata": {},
   "source": [
    "Below function has two arguments a & b all are of the data type 'char'.Value of 'a' is always between a-z but b can be '-1'. we will form 'match' string by concatinating variable a,b . This function will map dependent vowel ( supporting character or zero character) character of gujarati languange with respective unicode.It is highly posible that for two characters ( or one character) of english language there is only one gujarati character so based on that I created different mapping for each character based on it's length(2D - length=2, 1D - length=1).Whenever we find matching string return unicode and length of matched string. In case of no matching return half character."
   ]
  },
  {
   "cell_type": "code",
   "execution_count": 4,
   "metadata": {},
   "outputs": [],
   "source": [
    "def findInSupportChar(a,b):\n",
    "\n",
    "    '''supportChar_2D = ['AA','AE','AU','AM','AN']\n",
    "    supportChar_2DU = ['BE','C8','CC','82','82']'''\n",
    "    \n",
    "    supportChar_2D = ['AA','AE','AU','AN','AI','II','UU']\n",
    "    supportChar_2DU = ['BE','C8','CC','82','C8','C0','C2']\n",
    "    len2D = len(supportChar_2D)\n",
    "\n",
    "    supportChar_1D = ['A','I','U','E','O']\n",
    "    supportChar_1DU = ['-1','BF','C1','C7','CB']\n",
    "    len1D = len(supportChar_1D)\n",
    "    \n",
    "    if b!='-1':\n",
    "        match = a+b\n",
    "        for i in range(len2D):\n",
    "            if supportChar_2D[i] == match:\n",
    "                return (2,supportChar_2DU[i])\n",
    "        \n",
    "    match = a\n",
    "    for i in range(len1D):\n",
    "        if supportChar_1D[i] == match:\n",
    "            return (1,supportChar_1DU[i])\n",
    "        \n",
    "    return (0,'CD')"
   ]
  },
  {
   "cell_type": "markdown",
   "metadata": {},
   "source": [
    "Below function has two arguments a & b all are of the data type 'char'.Value of 'a' is always between a-z but b can be '-1'. we will form 'match' string by concatinating variable a,b . This function will map independent vowel character of gujarati languange with respective unicode.It is highly posible that for two characters ( or one character) of english language there is only one gujarati character so based on that I created different mapping for each character based on it's length(2D - length=2, 1D - length=1).Whenever we find matching string return unicode and length of matched string. In case of no matching return -1."
   ]
  },
  {
   "cell_type": "code",
   "execution_count": 5,
   "metadata": {},
   "outputs": [],
   "source": [
    "def findInVowelChar(a,b):\n",
    "\n",
    "    vowelChar_2D = ['AA','AE','AU','OM','II','UU']\n",
    "    vowelChar_2DU = ['86','8F','94','D0','88','8A']\n",
    "    len2D = len(vowelChar_2D)\n",
    "\n",
    "    vowelChar_1D = ['A','I','U','E','O']\n",
    "    vowelChar_1DU = ['85','87','89','8F','93']\n",
    "    len1D = len(vowelChar_1D)\n",
    "    \n",
    "    if b!='-1':\n",
    "        match = a+b\n",
    "        for i in range(len2D):\n",
    "            if vowelChar_2D[i] == match:\n",
    "                return (2,vowelChar_2DU[i])\n",
    "        \n",
    "    match = a\n",
    "    for i in range(len1D):\n",
    "        if vowelChar_1D[i] == match:\n",
    "            return (1,vowelChar_1DU[i])\n",
    "        \n",
    "    return (-1,'')"
   ]
  },
  {
   "cell_type": "markdown",
   "metadata": {},
   "source": [
    "Below function is an utility function for 'findInMainChar' function. We have to call 'findInMainChar' function with different arguments based on different situation. Below funtion will handle all these cases."
   ]
  },
  {
   "cell_type": "code",
   "execution_count": 6,
   "metadata": {},
   "outputs": [],
   "source": [
    "def mainCharUtil(inp,ind):\n",
    "    n = len(inp)\n",
    "    if ind + 3 <= n:\n",
    "        return findInMainChar(inp[ind],inp[ind+1],inp[ind+2])\n",
    "    elif ind + 2 <= n:\n",
    "        return findInMainChar(inp[ind],inp[ind+1],'-1')\n",
    "    else:\n",
    "        return findInMainChar(inp[ind],'-1','-1')"
   ]
  },
  {
   "cell_type": "markdown",
   "metadata": {},
   "source": [
    "Below function is an utility function for 'findInSupportChar' function. We have to call 'findInSupportChar' function with different arguments based on different situation. Below funtion will handle all these cases."
   ]
  },
  {
   "cell_type": "code",
   "execution_count": 7,
   "metadata": {},
   "outputs": [],
   "source": [
    "def supportCharUtil(inp,ind):\n",
    "    n = len(inp)\n",
    "    \n",
    "    if ind + 2 <= n:\n",
    "        return findInSupportChar(inp[ind],inp[ind+1])\n",
    "    else:\n",
    "        return findInSupportChar(inp[ind],'-1')"
   ]
  },
  {
   "cell_type": "markdown",
   "metadata": {},
   "source": [
    "Below function is an utility function for 'findInVowelChar' function. We have to call 'findInVowelChar' function with different arguments based on different situation. Below funtion will handle all these cases."
   ]
  },
  {
   "cell_type": "code",
   "execution_count": 8,
   "metadata": {},
   "outputs": [],
   "source": [
    "def vowelCharUtil(inp,ind):\n",
    "    n = len(inp)\n",
    "    \n",
    "    if ind + 2 <= n:\n",
    "        return findInVowelChar(inp[ind],inp[ind+1])\n",
    "    else:\n",
    "        return findInVowelChar(inp[ind],'-1')"
   ]
  },
  {
   "cell_type": "markdown",
   "metadata": {},
   "source": [
    "Below function contain main driver code for gujarati transliteration. It will follow same sequence of function call until end of the string. Function call are as follow: vowelCharUtil --> mainCharUtil --> supportCharUtil. At the end we will get gujarati unicode in 'sentence' variable."
   ]
  },
  {
   "cell_type": "code",
   "execution_count": 9,
   "metadata": {},
   "outputs": [],
   "source": [
    "def getGujTransliteration(inp):\n",
    "    inp = inp.upper()\n",
    "    prefix = '\\\\u0A'\n",
    "    n = len(inp)\n",
    "    sentence = ''\n",
    "\n",
    "    i=0\n",
    "    while i<n:\n",
    "        vowelRet = vowelCharUtil(inp,i)\n",
    "        if vowelRet[0] != -1:\n",
    "            \n",
    "            code = prefix+vowelRet[1]\n",
    "            unicode = code.encode('utf-8').decode('unicode_escape')\n",
    "            sentence = sentence + unicode\n",
    "            \n",
    "            i = i + vowelRet[0]\n",
    "            if i == n:\n",
    "                break\n",
    "                \n",
    "        ret = mainCharUtil(inp,i)\n",
    "        if ret[0] != -1:\n",
    "            \n",
    "            code = prefix+ret[1]\n",
    "            unicode = code.encode('utf-8').decode('unicode_escape')\n",
    "            sentence = sentence + unicode\n",
    "            \n",
    "            i = i + ret[0]\n",
    "            \n",
    "            if i<n:\n",
    "                supRet = supportCharUtil(inp,i)\n",
    "                if supRet[1] != '-1':\n",
    "                    \n",
    "                    code = prefix+supRet[1]\n",
    "                    unicode = code.encode('utf-8').decode('unicode_escape')\n",
    "                    sentence = sentence + unicode\n",
    "                    \n",
    "                    i = i + supRet[0]\n",
    "                else:\n",
    "                    i = i+1\n",
    " \n",
    "    return sentence "
   ]
  },
  {
   "cell_type": "markdown",
   "metadata": {},
   "source": [
    "## Roman Transliteration"
   ]
  },
  {
   "cell_type": "markdown",
   "metadata": {},
   "source": [
    "Next part of the code contain functionality for conversion to Roman Transliteration.Below I mapped unicode of Roman script."
   ]
  },
  {
   "cell_type": "code",
   "execution_count": 10,
   "metadata": {},
   "outputs": [],
   "source": [
    "romanScript = [\n",
    "    ('ક','KA'),\n",
    "    ('ખ','KHA'),\n",
    "    ('ગ','GA'),\n",
    "    ('ઘ','GHA'),\n",
    "    ('ચ','CHA'),\n",
    "    ('છ','CHHA'),\n",
    "    ('જ','JA'),\n",
    "    ('ઝ','ZA'),\n",
    "    ('ટ','\\u1E6C'+'A'),\n",
    "    ('ઠ','\\u1E6C'+'HA'),\n",
    "    ('ડ','\\u1E0E'+'A'),\n",
    "    ('ઢ','\\u1E0E'+'HA'),\n",
    "    ('ણ','\\u0145'),\n",
    "    ('ત','TA'),\n",
    "    ('થ','THA'),\n",
    "    ('દ','DA'),\n",
    "    ('ધ','DHA'),\n",
    "    ('ન','NA'),\n",
    "    ('પ','PA'),\n",
    "    ('ફ','PHA'),\n",
    "    ('બ','BA'),\n",
    "    ('ભ','BHA'),\n",
    "    ('મ','MA'),\n",
    "    ('ય','YA'),\n",
    "    ('ર','RA'),\n",
    "    ('લ','LA'),\n",
    "    ('વ','VA'),\n",
    "    ('શ','\\u015A'+'A'),\n",
    "    ('ષ','\\u1E62'+'A'),\n",
    "    ('સ','SA'),\n",
    "    ('હ','HA'),\n",
    "    ('ળ','LA'),\n",
    "    ('ક્ષ','KSHA'),\n",
    "    ('જ્ઞ','GYA'),\n",
    "    ('અ','A'),\n",
    "    ('આ','\\u0100'),\n",
    "    ('ઇ','I'),\n",
    "    ('ઈ','\\u012A'),\n",
    "    ('ઉ','U'),\n",
    "    ('ઊ','\\u016A'),\n",
    "    ('એ','\\u0112'),\n",
    "    ('ઐ','AI'),\n",
    "    ('ઓ','\\u014C'),\n",
    "    ('ઔ','AU'),\n",
    "    ('ૠ','RU'),\n",
    "    ('ં','N'),\n",
    "    ('ૌ','U'),\n",
    "    ('ૈ','I')\n",
    "]\n",
    "\n",
    "exception_romanScript = [  \n",
    "    ('ા','\\u0100'),\n",
    "    ('િ','\\u012A'),\n",
    "    ('ી','I'),\n",
    "    ('ુ','U'),\n",
    "    ('ૂ','\\u016A'),\n",
    "    ('ે','\\u0112'),\n",
    "    ('ો','\\u014C'),\n",
    "    ('્','')\n",
    "]"
   ]
  },
  {
   "cell_type": "markdown",
   "metadata": {},
   "source": [
    "Below function will search in 'romanScript' list and if matched it will return unicode otherwise return -1."
   ]
  },
  {
   "cell_type": "code",
   "execution_count": 11,
   "metadata": {},
   "outputs": [],
   "source": [
    "def findRomanChar(gujChar):\n",
    "    for i in range(len(romanScript)):\n",
    "        if romanScript[i][0] == gujChar:\n",
    "            return romanScript[i][1]\n",
    "    return '-1'"
   ]
  },
  {
   "cell_type": "markdown",
   "metadata": {},
   "source": [
    "Below function will search in 'exception_romanScript' list and if matched it will return unicode otherwise return -1."
   ]
  },
  {
   "cell_type": "code",
   "execution_count": 12,
   "metadata": {},
   "outputs": [],
   "source": [
    "def findExRomanChar(gujChar):\n",
    "    for i in range(len(exception_romanScript)):\n",
    "        if exception_romanScript[i][0] == gujChar:\n",
    "            return exception_romanScript[i][1]\n",
    "    return '-1'"
   ]
  },
  {
   "cell_type": "markdown",
   "metadata": {},
   "source": [
    "Below function is a driver code for Roman Transliteration."
   ]
  },
  {
   "cell_type": "code",
   "execution_count": 13,
   "metadata": {},
   "outputs": [],
   "source": [
    "def getRomanTransliteration(guj):\n",
    "    romanEq = '';\n",
    "    for i in guj:\n",
    "        ret = findRomanChar(i)\n",
    "        if ret == '-1':\n",
    "            ret = findExRomanChar(i)\n",
    "            romanEq = romanEq[:len(romanEq) - 1]\n",
    "            romanEq = romanEq + ret\n",
    "        else:\n",
    "            romanEq = romanEq + ret\n",
    "    return romanEq"
   ]
  },
  {
   "cell_type": "markdown",
   "metadata": {},
   "source": [
    "## Results"
   ]
  },
  {
   "cell_type": "code",
   "execution_count": 14,
   "metadata": {},
   "outputs": [
    {
     "name": "stdout",
     "output_type": "stream",
     "text": [
      "વત્સલ\n"
     ]
    }
   ],
   "source": [
    "inp = 'VATSAL'\n",
    "guj = getGujTransliteration(inp)\n",
    "print(guj)"
   ]
  },
  {
   "cell_type": "code",
   "execution_count": 15,
   "metadata": {},
   "outputs": [
    {
     "name": "stdout",
     "output_type": "stream",
     "text": [
      "VATSALA\n"
     ]
    }
   ],
   "source": [
    "roman = getRomanTransliteration(guj)\n",
    "print(roman)"
   ]
  },
  {
   "cell_type": "code",
   "execution_count": 16,
   "metadata": {},
   "outputs": [
    {
     "name": "stdout",
     "output_type": "stream",
     "text": [
      "માનવ\n"
     ]
    }
   ],
   "source": [
    "inp = 'MAANAV'\n",
    "guj = getGujTransliteration(inp)\n",
    "print(guj)"
   ]
  },
  {
   "cell_type": "code",
   "execution_count": 17,
   "metadata": {},
   "outputs": [
    {
     "name": "stdout",
     "output_type": "stream",
     "text": [
      "MĀNAVA\n"
     ]
    }
   ],
   "source": [
    "roman = getRomanTransliteration(guj)\n",
    "print(roman)"
   ]
  },
  {
   "cell_type": "code",
   "execution_count": 18,
   "metadata": {},
   "outputs": [
    {
     "name": "stdout",
     "output_type": "stream",
     "text": [
      "ધ્રુવિન\n"
     ]
    }
   ],
   "source": [
    "inp = 'DHRUVIN'\n",
    "guj = getGujTransliteration(inp)\n",
    "print(guj)"
   ]
  },
  {
   "cell_type": "code",
   "execution_count": 19,
   "metadata": {},
   "outputs": [
    {
     "name": "stdout",
     "output_type": "stream",
     "text": [
      "DHRUVĪNA\n"
     ]
    }
   ],
   "source": [
    "roman = getRomanTransliteration(guj)\n",
    "print(roman)"
   ]
  },
  {
   "cell_type": "code",
   "execution_count": 20,
   "metadata": {},
   "outputs": [
    {
     "name": "stdout",
     "output_type": "stream",
     "text": [
      "દેવાન્સ\n"
     ]
    }
   ],
   "source": [
    "inp = 'DEVAANS'\n",
    "guj = getGujTransliteration(inp)\n",
    "print(guj)"
   ]
  },
  {
   "cell_type": "code",
   "execution_count": 21,
   "metadata": {},
   "outputs": [
    {
     "name": "stdout",
     "output_type": "stream",
     "text": [
      "DĒVĀNSA\n"
     ]
    }
   ],
   "source": [
    "roman = getRomanTransliteration(guj)\n",
    "print(roman)"
   ]
  },
  {
   "cell_type": "code",
   "execution_count": 22,
   "metadata": {},
   "outputs": [
    {
     "name": "stdout",
     "output_type": "stream",
     "text": [
      "ગૌરવ\n"
     ]
    }
   ],
   "source": [
    "inp = 'GAURAV'\n",
    "guj = getGujTransliteration(inp)\n",
    "print(guj)"
   ]
  },
  {
   "cell_type": "code",
   "execution_count": 23,
   "metadata": {},
   "outputs": [
    {
     "name": "stdout",
     "output_type": "stream",
     "text": [
      "GAURAVA\n"
     ]
    }
   ],
   "source": [
    "roman = getRomanTransliteration(guj)\n",
    "print(roman)"
   ]
  },
  {
   "cell_type": "code",
   "execution_count": 24,
   "metadata": {},
   "outputs": [
    {
     "name": "stdout",
     "output_type": "stream",
     "text": [
      "શ્રીયા\n"
     ]
    }
   ],
   "source": [
    "inp = 'SHRIIYAA'\n",
    "guj = getGujTransliteration(inp)\n",
    "print(guj)"
   ]
  },
  {
   "cell_type": "code",
   "execution_count": 25,
   "metadata": {},
   "outputs": [
    {
     "name": "stdout",
     "output_type": "stream",
     "text": [
      "ŚRIYĀ\n"
     ]
    }
   ],
   "source": [
    "roman = getRomanTransliteration(guj)\n",
    "print(roman)"
   ]
  },
  {
   "cell_type": "code",
   "execution_count": 26,
   "metadata": {},
   "outputs": [
    {
     "name": "stdout",
     "output_type": "stream",
     "text": [
      "ધ્રુવ\n"
     ]
    }
   ],
   "source": [
    "inp = 'DHRUV'\n",
    "guj = getGujTransliteration(inp)\n",
    "print(guj)"
   ]
  },
  {
   "cell_type": "code",
   "execution_count": 27,
   "metadata": {},
   "outputs": [
    {
     "name": "stdout",
     "output_type": "stream",
     "text": [
      "DHRUVA\n"
     ]
    }
   ],
   "source": [
    "roman = getRomanTransliteration(guj)\n",
    "print(roman)"
   ]
  },
  {
   "cell_type": "code",
   "execution_count": 28,
   "metadata": {},
   "outputs": [
    {
     "name": "stdout",
     "output_type": "stream",
     "text": [
      "હેનીલ\n"
     ]
    }
   ],
   "source": [
    "inp = 'HENIIL'\n",
    "guj = getGujTransliteration(inp)\n",
    "print(guj)"
   ]
  },
  {
   "cell_type": "code",
   "execution_count": 29,
   "metadata": {},
   "outputs": [
    {
     "name": "stdout",
     "output_type": "stream",
     "text": [
      "HĒNILA\n"
     ]
    }
   ],
   "source": [
    "roman = getRomanTransliteration(guj)\n",
    "print(roman)"
   ]
  },
  {
   "cell_type": "code",
   "execution_count": 30,
   "metadata": {},
   "outputs": [
    {
     "name": "stdout",
     "output_type": "stream",
     "text": [
      "અનમોલ\n"
     ]
    }
   ],
   "source": [
    "inp = 'ANAMOL'\n",
    "guj = getGujTransliteration(inp)\n",
    "print(guj)"
   ]
  },
  {
   "cell_type": "code",
   "execution_count": 31,
   "metadata": {},
   "outputs": [
    {
     "name": "stdout",
     "output_type": "stream",
     "text": [
      "ANAMŌLA\n"
     ]
    }
   ],
   "source": [
    "roman = getRomanTransliteration(guj)\n",
    "print(roman)"
   ]
  },
  {
   "cell_type": "code",
   "execution_count": 32,
   "metadata": {},
   "outputs": [
    {
     "name": "stdout",
     "output_type": "stream",
     "text": [
      "શકુની\n"
     ]
    }
   ],
   "source": [
    "inp = 'shakunii'\n",
    "guj = getGujTransliteration(inp)\n",
    "print(guj)"
   ]
  },
  {
   "cell_type": "code",
   "execution_count": 33,
   "metadata": {},
   "outputs": [
    {
     "name": "stdout",
     "output_type": "stream",
     "text": [
      "ŚAKUNI\n"
     ]
    }
   ],
   "source": [
    "roman = getRomanTransliteration(guj)\n",
    "print(roman)"
   ]
  },
  {
   "cell_type": "code",
   "execution_count": 34,
   "metadata": {},
   "outputs": [
    {
     "name": "stdout",
     "output_type": "stream",
     "text": [
      "આનંદ\n"
     ]
    }
   ],
   "source": [
    "inp = 'AANAND'\n",
    "guj = getGujTransliteration(inp)\n",
    "print(guj)"
   ]
  },
  {
   "cell_type": "code",
   "execution_count": 35,
   "metadata": {},
   "outputs": [
    {
     "name": "stdout",
     "output_type": "stream",
     "text": [
      "ĀNANDA\n"
     ]
    }
   ],
   "source": [
    "roman = getRomanTransliteration(guj)\n",
    "print(roman)"
   ]
  },
  {
   "cell_type": "code",
   "execution_count": 36,
   "metadata": {},
   "outputs": [
    {
     "name": "stdout",
     "output_type": "stream",
     "text": [
      "ક્ષિતિજ\n"
     ]
    }
   ],
   "source": [
    "inp = 'KSSITIJ'\n",
    "guj = getGujTransliteration(inp)\n",
    "print(guj)"
   ]
  },
  {
   "cell_type": "code",
   "execution_count": 37,
   "metadata": {},
   "outputs": [
    {
     "name": "stdout",
     "output_type": "stream",
     "text": [
      "KṢĪTĪJA\n"
     ]
    }
   ],
   "source": [
    "roman = getRomanTransliteration(guj)\n",
    "print(roman)"
   ]
  },
  {
   "cell_type": "code",
   "execution_count": 38,
   "metadata": {},
   "outputs": [
    {
     "name": "stdout",
     "output_type": "stream",
     "text": [
      "રુષી\n"
     ]
    }
   ],
   "source": [
    "inp = 'RUSSII'\n",
    "guj = getGujTransliteration(inp)\n",
    "print(guj)"
   ]
  },
  {
   "cell_type": "code",
   "execution_count": 39,
   "metadata": {},
   "outputs": [
    {
     "name": "stdout",
     "output_type": "stream",
     "text": [
      "RUṢI\n"
     ]
    }
   ],
   "source": [
    "roman = getRomanTransliteration(guj)\n",
    "print(roman)"
   ]
  },
  {
   "cell_type": "code",
   "execution_count": 40,
   "metadata": {},
   "outputs": [
    {
     "name": "stdout",
     "output_type": "stream",
     "text": [
      "પતંગ\n"
     ]
    }
   ],
   "source": [
    "inp = 'patang'\n",
    "guj = getGujTransliteration(inp)\n",
    "print(guj)"
   ]
  },
  {
   "cell_type": "code",
   "execution_count": 41,
   "metadata": {},
   "outputs": [
    {
     "name": "stdout",
     "output_type": "stream",
     "text": [
      "PATANGA\n"
     ]
    }
   ],
   "source": [
    "roman = getRomanTransliteration(guj)\n",
    "print(roman)"
   ]
  },
  {
   "cell_type": "code",
   "execution_count": 46,
   "metadata": {},
   "outputs": [
    {
     "name": "stdout",
     "output_type": "stream",
     "text": [
      "આયુષ્યા\n"
     ]
    }
   ],
   "source": [
    "inp = 'aayussyaa'\n",
    "guj = getGujTransliteration(inp)\n",
    "print(guj)"
   ]
  },
  {
   "cell_type": "code",
   "execution_count": 47,
   "metadata": {},
   "outputs": [
    {
     "name": "stdout",
     "output_type": "stream",
     "text": [
      "ĀYUṢYĀ\n"
     ]
    }
   ],
   "source": [
    "roman = getRomanTransliteration(guj)\n",
    "print(roman)"
   ]
  },
  {
   "cell_type": "code",
   "execution_count": null,
   "metadata": {},
   "outputs": [],
   "source": []
  }
 ],
 "metadata": {
  "kernelspec": {
   "display_name": "Python 3",
   "language": "python",
   "name": "python3"
  },
  "language_info": {
   "codemirror_mode": {
    "name": "ipython",
    "version": 3
   },
   "file_extension": ".py",
   "mimetype": "text/x-python",
   "name": "python",
   "nbconvert_exporter": "python",
   "pygments_lexer": "ipython3",
   "version": "3.6.9"
  }
 },
 "nbformat": 4,
 "nbformat_minor": 2
}
